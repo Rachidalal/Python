{
  "nbformat": 4,
  "nbformat_minor": 0,
  "metadata": {
    "colab": {
      "provenance": []
    },
    "kernelspec": {
      "name": "python3",
      "display_name": "Python 3"
    },
    "language_info": {
      "name": "python"
    }
  },
  "cells": [
    {
      "cell_type": "code",
      "execution_count": 1,
      "metadata": {
        "id": "ldwobhGHhofv"
      },
      "outputs": [],
      "source": [
        "                               # 7-8-2023 Monday\n",
        "\n",
        "import pandas as pd\n",
        "import numpy as np"
      ]
    },
    {
      "cell_type": "code",
      "source": [
        "movies_df= pd.read_csv(\"Movie.csv\")"
      ],
      "metadata": {
        "id": "5HwuXh69h5au"
      },
      "execution_count": 2,
      "outputs": []
    },
    {
      "cell_type": "code",
      "source": [
        "movies_df.head(20)"
      ],
      "metadata": {
        "id": "bu99etsOh60s"
      },
      "execution_count": null,
      "outputs": []
    },
    {
      "cell_type": "code",
      "source": [
        "movies_df[(movies_df['userId']==6)]"
      ],
      "metadata": {
        "id": "SFceedWZh8hl"
      },
      "execution_count": null,
      "outputs": []
    },
    {
      "cell_type": "code",
      "source": [
        "movies_df.sort_values('userId')"
      ],
      "metadata": {
        "id": "BOqoifl5h-OJ"
      },
      "execution_count": null,
      "outputs": []
    },
    {
      "cell_type": "code",
      "source": [
        "movies_df.shape"
      ],
      "metadata": {
        "id": "aagXmPBAiYre"
      },
      "execution_count": null,
      "outputs": []
    },
    {
      "cell_type": "markdown",
      "source": [],
      "metadata": {
        "id": "fXaZJeWNjaYc"
      }
    },
    {
      "cell_type": "code",
      "source": [
        "len(movies_df.userId.unique())"
      ],
      "metadata": {
        "id": "X-77FVu9ifXO"
      },
      "execution_count": null,
      "outputs": []
    },
    {
      "cell_type": "code",
      "source": [
        "(movies_df['userId'].value_counts()).shape[0]"
      ],
      "metadata": {
        "id": "-3HDECDkinx4"
      },
      "execution_count": null,
      "outputs": []
    },
    {
      "cell_type": "code",
      "source": [
        "movies_df['rating'].value_counts()"
      ],
      "metadata": {
        "id": "WRfX-3Bui0ew"
      },
      "execution_count": null,
      "outputs": []
    },
    {
      "cell_type": "code",
      "source": [
        "len(movies_df.movie.unique())"
      ],
      "metadata": {
        "id": "xXRZv-xli5T7"
      },
      "execution_count": null,
      "outputs": []
    },
    {
      "cell_type": "code",
      "source": [
        "movies_df.movie.value_counts()"
      ],
      "metadata": {
        "id": "hc6YzE13jURk"
      },
      "execution_count": null,
      "outputs": []
    },
    {
      "cell_type": "code",
      "source": [
        "user_movies_df = movies_df.pivot(index='userId',\n",
        "                                 columns='movie',\n",
        "                                 values='rating')"
      ],
      "metadata": {
        "id": "7Iq8NfM6jgUH"
      },
      "execution_count": 19,
      "outputs": []
    },
    {
      "cell_type": "code",
      "source": [
        "user_movies_df"
      ],
      "metadata": {
        "id": "8EeBxGe5kH2e"
      },
      "execution_count": null,
      "outputs": []
    },
    {
      "cell_type": "code",
      "source": [
        "user_movies_df.shape"
      ],
      "metadata": {
        "id": "0Xm72xF7mG3t"
      },
      "execution_count": null,
      "outputs": []
    },
    {
      "cell_type": "code",
      "source": [
        "user_movies_df"
      ],
      "metadata": {
        "id": "hnaya-SBmKfX"
      },
      "execution_count": null,
      "outputs": []
    },
    {
      "cell_type": "code",
      "source": [
        "user_movies_df.fillna(0,inplace=True)"
      ],
      "metadata": {
        "id": "z7zP4jRykJZT"
      },
      "execution_count": 23,
      "outputs": []
    },
    {
      "cell_type": "code",
      "source": [
        "user_movies_df"
      ],
      "metadata": {
        "id": "iSz69zsCkE18"
      },
      "execution_count": null,
      "outputs": []
    },
    {
      "cell_type": "code",
      "source": [
        "from sklearn.metrics import pairwise_distances\n",
        "from scipy.spatial.distance import cosine , correlation"
      ],
      "metadata": {
        "id": "lhDZ5Mg6j74y"
      },
      "execution_count": 25,
      "outputs": []
    },
    {
      "cell_type": "code",
      "source": [
        "user_sim = 1 - pairwise_distances(user_movies_df.values,metric='cosine')"
      ],
      "metadata": {
        "id": "DBnpdZXKmqDB"
      },
      "execution_count": 26,
      "outputs": []
    },
    {
      "cell_type": "code",
      "source": [
        "user_sim"
      ],
      "metadata": {
        "id": "iVdewofgm-QE"
      },
      "execution_count": null,
      "outputs": []
    },
    {
      "cell_type": "code",
      "source": [
        "np.fill_diagonal(user_sim , 0)"
      ],
      "metadata": {
        "id": "XJ1ZIrtZm_R5"
      },
      "execution_count": 29,
      "outputs": []
    },
    {
      "cell_type": "code",
      "source": [
        "user_sim_df = pd.DataFrame(user_sim)"
      ],
      "metadata": {
        "id": "Qm2-Tucmnz3v"
      },
      "execution_count": 30,
      "outputs": []
    },
    {
      "cell_type": "code",
      "source": [
        "user_sim_df"
      ],
      "metadata": {
        "id": "qWZVgFlynxvk"
      },
      "execution_count": null,
      "outputs": []
    },
    {
      "cell_type": "code",
      "source": [
        "user_sim_df.index = movies_df.userId.unique()\n",
        "user_sim_df.columns = movies_df.userId.unique()"
      ],
      "metadata": {
        "id": "_q_mBxWaoI6Y"
      },
      "execution_count": 32,
      "outputs": []
    },
    {
      "cell_type": "code",
      "source": [
        "user_sim_df"
      ],
      "metadata": {
        "id": "V3Ir81UEozjE"
      },
      "execution_count": null,
      "outputs": []
    },
    {
      "cell_type": "code",
      "source": [
        "user_sim_df.idxmax(axis=1)"
      ],
      "metadata": {
        "id": "z7Qm1moho0_m"
      },
      "execution_count": null,
      "outputs": []
    },
    {
      "cell_type": "code",
      "source": [
        "user_sim_df.idxmax(axis=1)[0:10]"
      ],
      "metadata": {
        "id": "19xQ8CCYpYZL"
      },
      "execution_count": null,
      "outputs": []
    },
    {
      "cell_type": "code",
      "source": [
        "user_sim_df.iloc[0:5 , 0:5]"
      ],
      "metadata": {
        "id": "ZIO-_1ipp_uO"
      },
      "execution_count": null,
      "outputs": []
    },
    {
      "cell_type": "code",
      "source": [
        "movies_df[(movies_df['userId']==6)  | (movies_df['userId']==168)]"
      ],
      "metadata": {
        "id": "t_LKWEU-qJzH"
      },
      "execution_count": null,
      "outputs": []
    },
    {
      "cell_type": "code",
      "source": [
        "                          # Other Way  diplay table\n",
        "\n",
        "user_1 = movies_df[movies_df['userId']==6]"
      ],
      "metadata": {
        "id": "wQIYUku7qdaE"
      },
      "execution_count": 44,
      "outputs": []
    },
    {
      "cell_type": "code",
      "source": [
        "user_2 = movies_df[movies_df['userId']==168]"
      ],
      "metadata": {
        "id": "TDSmkpsCq1di"
      },
      "execution_count": 45,
      "outputs": []
    },
    {
      "cell_type": "code",
      "source": [
        "user_1.movie"
      ],
      "metadata": {
        "id": "irEyij62q6Cl"
      },
      "execution_count": null,
      "outputs": []
    },
    {
      "cell_type": "code",
      "source": [
        "user_2.movie"
      ],
      "metadata": {
        "id": "iiUt3WIyq86i"
      },
      "execution_count": null,
      "outputs": []
    },
    {
      "cell_type": "code",
      "source": [
        "pd.merge(user_1,user_2,on='movie',how='left')"
      ],
      "metadata": {
        "id": "cnBvLvZxq_M_"
      },
      "execution_count": null,
      "outputs": []
    }
  ]
}