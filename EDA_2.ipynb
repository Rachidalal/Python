{
  "nbformat": 4,
  "nbformat_minor": 0,
  "metadata": {
    "colab": {
      "provenance": []
    },
    "kernelspec": {
      "name": "python3",
      "display_name": "Python 3"
    },
    "language_info": {
      "name": "python"
    }
  },
  "cells": [
    {
      "cell_type": "code",
      "execution_count": 1,
      "metadata": {
        "id": "g32NZehB_8mt"
      },
      "outputs": [],
      "source": [
        "                                         # 11-8-2023 Friday\n",
        "\n",
        "                                          # Label Encoder\n",
        "from sklearn.preprocessing import LabelEncoder\n",
        "import pandas as pd"
      ]
    },
    {
      "cell_type": "code",
      "source": [
        "data = pd.read_csv(\"iris.csv\",index_col=0)"
      ],
      "metadata": {
        "id": "XxCIjbv4ATz_"
      },
      "execution_count": 2,
      "outputs": []
    },
    {
      "cell_type": "code",
      "source": [
        "data.tail()"
      ],
      "metadata": {
        "id": "HVsV3pAfAh14"
      },
      "execution_count": null,
      "outputs": []
    },
    {
      "cell_type": "code",
      "source": [
        "data1=data.copy()"
      ],
      "metadata": {
        "id": "rdXndR4wAj6h"
      },
      "execution_count": 4,
      "outputs": []
    },
    {
      "cell_type": "code",
      "source": [
        "labelencoder = LabelEncoder()\n",
        "data1.iloc[:, -1] = labelencoder.fit_transform(data1.iloc[:,-1])"
      ],
      "metadata": {
        "colab": {
          "base_uri": "https://localhost:8080/"
        },
        "id": "EQpWQUaSBFhn",
        "outputId": "c36d68d8-9977-40a6-9174-0ddc8668061c"
      },
      "execution_count": 5,
      "outputs": [
        {
          "output_type": "stream",
          "name": "stderr",
          "text": [
            "<ipython-input-5-90df269afa43>:2: DeprecationWarning: In a future version, `df.iloc[:, i] = newvals` will attempt to set the values inplace instead of always setting a new array. To retain the old behavior, use either `df[df.columns[i]] = newvals` or, if columns are non-unique, `df.isetitem(i, newvals)`\n",
            "  data1.iloc[:, -1] = labelencoder.fit_transform(data1.iloc[:,-1])\n"
          ]
        }
      ]
    },
    {
      "cell_type": "code",
      "source": [
        "data1"
      ],
      "metadata": {
        "id": "snA-wL10BWJV"
      },
      "execution_count": null,
      "outputs": []
    },
    {
      "cell_type": "code",
      "source": [
        "                          # One Hote Encoder\n",
        " # Using Sklearn\n",
        "from sklearn.preprocessing import OneHotEncoder"
      ],
      "metadata": {
        "id": "uAJZmNcXBXlv"
      },
      "execution_count": 8,
      "outputs": []
    },
    {
      "cell_type": "code",
      "source": [
        "data2=data.copy()"
      ],
      "metadata": {
        "id": "a7Cnc8vvCORW"
      },
      "execution_count": 10,
      "outputs": []
    },
    {
      "cell_type": "code",
      "source": [
        "data2"
      ],
      "metadata": {
        "id": "-WqzgCPhCVgh"
      },
      "execution_count": null,
      "outputs": []
    },
    {
      "cell_type": "code",
      "source": [
        "OHE = OneHotEncoder()"
      ],
      "metadata": {
        "id": "rGTaVm20CVin"
      },
      "execution_count": 12,
      "outputs": []
    },
    {
      "cell_type": "code",
      "source": [
        "enc_df = pd.DataFrame(OHE.fit_transform(data2[['Species']]).toarray())"
      ],
      "metadata": {
        "id": "rdieUQIlChC0"
      },
      "execution_count": 16,
      "outputs": []
    },
    {
      "cell_type": "code",
      "source": [
        "enc_df"
      ],
      "metadata": {
        "id": "QTNT9AbKCsoL"
      },
      "execution_count": null,
      "outputs": []
    },
    {
      "cell_type": "code",
      "source": [
        "data_final = data2.iloc[:,0:4].join(enc_df)\n",
        "data_final"
      ],
      "metadata": {
        "id": "CJn6YCqAC0MR"
      },
      "execution_count": null,
      "outputs": []
    },
    {
      "cell_type": "code",
      "source": [
        "                                  #using Pandas\n",
        "import pandas as pd"
      ],
      "metadata": {
        "id": "2ZSZqbheDnKp"
      },
      "execution_count": 19,
      "outputs": []
    },
    {
      "cell_type": "code",
      "source": [
        "data3 = data.copy()"
      ],
      "metadata": {
        "id": "mlBSGO2zEGqb"
      },
      "execution_count": 20,
      "outputs": []
    },
    {
      "cell_type": "code",
      "source": [
        "data_encoded = pd.get_dummies(data3)"
      ],
      "metadata": {
        "id": "qEAvyV0jEI8z"
      },
      "execution_count": 21,
      "outputs": []
    },
    {
      "cell_type": "code",
      "source": [
        "data_encoded"
      ],
      "metadata": {
        "id": "XFvgXD1ZEOk3"
      },
      "execution_count": null,
      "outputs": []
    },
    {
      "cell_type": "code",
      "source": [
        "                                # Isolation Forest"
      ],
      "metadata": {
        "id": "tqa6yQjfEQKA"
      },
      "execution_count": 23,
      "outputs": []
    },
    {
      "cell_type": "code",
      "source": [
        "from sklearn.ensemble import IsolationForest\n",
        "import pandas as pd"
      ],
      "metadata": {
        "id": "n8JgB9yKEuMj"
      },
      "execution_count": 24,
      "outputs": []
    },
    {
      "cell_type": "code",
      "source": [
        "df = pd.DataFrame({\n",
        "    'Marks':[50,80,82,95,800],\n",
        "    'Time':[1,2,3,1.5,60]\n",
        "})\n",
        "df"
      ],
      "metadata": {
        "id": "5MnNyBiSFLks"
      },
      "execution_count": null,
      "outputs": []
    },
    {
      "cell_type": "code",
      "source": [
        "iso=IsolationForest(random_state=10,contamination=0.1)\n",
        "iso.fit(df)\n",
        "out=iso.predict(df)"
      ],
      "metadata": {
        "id": "gxc4y-_ZF9z5"
      },
      "execution_count": null,
      "outputs": []
    },
    {
      "cell_type": "code",
      "source": [
        "out"
      ],
      "metadata": {
        "id": "ltYQNo0JGSm3"
      },
      "execution_count": null,
      "outputs": []
    },
    {
      "cell_type": "code",
      "source": [
        "df['Score']=out\n",
        "df"
      ],
      "metadata": {
        "id": "WnY8rjo5GT6N"
      },
      "execution_count": null,
      "outputs": []
    },
    {
      "cell_type": "code",
      "source": [
        "from sklearn.ensemble import IsolationForest\n",
        "import pandas as pd"
      ],
      "metadata": {
        "id": "lYWZCaxgGb68"
      },
      "execution_count": 36,
      "outputs": []
    },
    {
      "cell_type": "code",
      "source": [
        "data = pd.read_csv(\"iris.csv\",index_col=0)\n",
        "data_encoded = pd.get_dummies(data)"
      ],
      "metadata": {
        "id": "V8wTn4ZZGtuO"
      },
      "execution_count": 40,
      "outputs": []
    },
    {
      "cell_type": "code",
      "source": [
        "data_encoded"
      ],
      "metadata": {
        "id": "XhF5rW0JG2jd"
      },
      "execution_count": null,
      "outputs": []
    },
    {
      "cell_type": "code",
      "source": [
        "from numpy import percentile\n",
        "data_encoded['Petal.Width'].describe(percentiles = [0.01,0.02,0.9,0.99,0.991,0.992])"
      ],
      "metadata": {
        "id": "W8CzsMB2HAcF"
      },
      "execution_count": null,
      "outputs": []
    },
    {
      "cell_type": "code",
      "source": [
        "clf = IsolationForest(random_state=10,contamination=.01)\n",
        "clf.fit(data_encoded)"
      ],
      "metadata": {
        "id": "GIxp068FHmv5"
      },
      "execution_count": null,
      "outputs": []
    },
    {
      "cell_type": "code",
      "source": [
        "y_pred_Outliers = clf.predict(data_encoded)"
      ],
      "metadata": {
        "id": "YU_HlMeAIJOj"
      },
      "execution_count": 45,
      "outputs": []
    },
    {
      "cell_type": "code",
      "source": [
        "y_pred_Outliers"
      ],
      "metadata": {
        "id": "dlMZoRubISk-"
      },
      "execution_count": null,
      "outputs": []
    },
    {
      "cell_type": "code",
      "source": [
        "data_encoded"
      ],
      "metadata": {
        "id": "RLsTPWt7IUE4"
      },
      "execution_count": null,
      "outputs": []
    },
    {
      "cell_type": "code",
      "source": [
        "data_encoded.loc[151]=[20,40,30,50,1,0,0]"
      ],
      "metadata": {
        "id": "As70_xDLImcJ"
      },
      "execution_count": 48,
      "outputs": []
    },
    {
      "cell_type": "code",
      "source": [
        "data_encoded"
      ],
      "metadata": {
        "id": "qi3blH3rJD-m"
      },
      "execution_count": null,
      "outputs": []
    },
    {
      "cell_type": "code",
      "source": [
        "clf = IsolationForest(random_state=10,contamination=.01)\n",
        "clf.fit(data_encoded)\n",
        "y_pred_Outliers = clf.predict(data_encoded)\n",
        "y_pred_Outliers"
      ],
      "metadata": {
        "id": "enfJu0IWJGtf"
      },
      "execution_count": null,
      "outputs": []
    },
    {
      "cell_type": "code",
      "source": [
        "data_encoded['anomaly']=clf.predict(data_encoded.iloc[:,0:7])"
      ],
      "metadata": {
        "id": "57i9eJ41Jhnv"
      },
      "execution_count": 54,
      "outputs": []
    },
    {
      "cell_type": "code",
      "source": [
        "data_encoded"
      ],
      "metadata": {
        "id": "gl1eR9jTJ5e0"
      },
      "execution_count": null,
      "outputs": []
    },
    {
      "cell_type": "code",
      "source": [
        "data_encoded[data_encoded['anomaly']==1]"
      ],
      "metadata": {
        "id": "SEIvEXypKXhq"
      },
      "execution_count": null,
      "outputs": []
    },
    {
      "cell_type": "code",
      "source": [
        "                                # PPS Score\n",
        "\n",
        "!pip install ppscore"
      ],
      "metadata": {
        "id": "FjOzmvE9KAwk"
      },
      "execution_count": null,
      "outputs": []
    },
    {
      "cell_type": "code",
      "source": [
        "import ppscore as pps"
      ],
      "metadata": {
        "id": "eq4jeZlJKnoq"
      },
      "execution_count": 59,
      "outputs": []
    },
    {
      "cell_type": "code",
      "source": [
        "data.head()"
      ],
      "metadata": {
        "id": "zKVkKt1UKzBR"
      },
      "execution_count": null,
      "outputs": []
    },
    {
      "cell_type": "code",
      "source": [
        "pps.score(data, \"Sepal.Length\",\"Petal.Length\")"
      ],
      "metadata": {
        "id": "3FFw4DP5K0sq"
      },
      "execution_count": null,
      "outputs": []
    },
    {
      "cell_type": "code",
      "source": [
        "pps.matrix(data)"
      ],
      "metadata": {
        "id": "7kZ0DB7FLAnz"
      },
      "execution_count": null,
      "outputs": []
    },
    {
      "cell_type": "code",
      "source": [
        "df =pd.DataFrame(pps.matrix(data))\n",
        "df[df.case!='predict_itself'].iloc[:,[0,1,2,3,5,8]].sort_values('ppscore',ascending=False)"
      ],
      "metadata": {
        "id": "FKdEih_4LZSZ"
      },
      "execution_count": null,
      "outputs": []
    }
  ]
}