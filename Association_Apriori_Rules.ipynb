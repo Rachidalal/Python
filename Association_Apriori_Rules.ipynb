{
  "nbformat": 4,
  "nbformat_minor": 0,
  "metadata": {
    "colab": {
      "provenance": []
    },
    "kernelspec": {
      "name": "python3",
      "display_name": "Python 3"
    },
    "language_info": {
      "name": "python"
    }
  },
  "cells": [
    {
      "cell_type": "code",
      "execution_count": 3,
      "metadata": {
        "id": "_ZomG-E0ymPw"
      },
      "outputs": [],
      "source": [
        "                                    # 4-8-2023 Friday\n",
        "!pip install mlxtend"
      ]
    },
    {
      "cell_type": "code",
      "source": [
        "import mlxtend"
      ],
      "metadata": {
        "id": "m9wocPmVF6bo"
      },
      "execution_count": 4,
      "outputs": []
    },
    {
      "cell_type": "code",
      "source": [
        "import pandas as pd\n",
        "import numpy as np\n",
        "from mlxtend.frequent_patterns import apriori,association_rules\n",
        "from mlxtend.preprocessing import TransactionEncoder"
      ],
      "metadata": {
        "id": "tqvqXshGFsAa"
      },
      "execution_count": 5,
      "outputs": []
    },
    {
      "cell_type": "code",
      "source": [
        "titanic = pd.read_csv(\"Titanic.csv\")\n",
        "titanic"
      ],
      "metadata": {
        "id": "e6YBV5vHFO0M"
      },
      "execution_count": null,
      "outputs": []
    },
    {
      "cell_type": "code",
      "source": [
        "titanic['Class'].value_counts()"
      ],
      "metadata": {
        "id": "71ni2OVeGaHL"
      },
      "execution_count": null,
      "outputs": []
    },
    {
      "cell_type": "code",
      "source": [
        "titanic['Gender'].value_counts()"
      ],
      "metadata": {
        "id": "yL6W5UiZHXwh"
      },
      "execution_count": null,
      "outputs": []
    },
    {
      "cell_type": "code",
      "source": [
        "titanic['Age'].value_counts()"
      ],
      "metadata": {
        "id": "u7M69vx8HutD"
      },
      "execution_count": null,
      "outputs": []
    },
    {
      "cell_type": "code",
      "source": [
        "titanic['Survived'].value_counts()"
      ],
      "metadata": {
        "id": "RNJyoGGhH2bM"
      },
      "execution_count": null,
      "outputs": []
    },
    {
      "cell_type": "code",
      "source": [
        "df = pd.get_dummies(titanic)\n",
        "df.head()"
      ],
      "metadata": {
        "id": "LNVNza6rH51-"
      },
      "execution_count": null,
      "outputs": []
    },
    {
      "cell_type": "code",
      "source": [
        "                              # Apriori Algorithm\n",
        "\n",
        "frequent_itemsets = apriori(df , min_support = 0.1 , use_colnames = True)\n",
        "frequent_itemsets"
      ],
      "metadata": {
        "id": "Rpn6drhSIlm8"
      },
      "execution_count": null,
      "outputs": []
    },
    {
      "cell_type": "code",
      "source": [
        "rules = association_rules(frequent_itemsets , metric=\"lift\" , min_threshold=0.7)\n",
        "rules\n",
        "rules.sort_values('lift',ascending = False)[0:20]"
      ],
      "metadata": {
        "id": "lFuMaITHJUxV"
      },
      "execution_count": null,
      "outputs": []
    },
    {
      "cell_type": "code",
      "source": [
        "rules[rules.lift>1]"
      ],
      "metadata": {
        "id": "dv40uFQiKgju"
      },
      "execution_count": null,
      "outputs": []
    },
    {
      "cell_type": "code",
      "source": [],
      "metadata": {
        "id": "15U8Ai6pMiPh"
      },
      "execution_count": null,
      "outputs": []
    }
  ]
}