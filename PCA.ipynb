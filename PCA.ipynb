{
  "nbformat": 4,
  "nbformat_minor": 0,
  "metadata": {
    "colab": {
      "provenance": []
    },
    "kernelspec": {
      "name": "python3",
      "display_name": "Python 3"
    },
    "language_info": {
      "name": "python"
    }
  },
  "cells": [
    {
      "cell_type": "code",
      "execution_count": 3,
      "metadata": {
        "id": "Euz8_j-ciC-7"
      },
      "outputs": [],
      "source": [
        "                                # 2-8-2023 Wednesday\n",
        "import pandas as pd\n",
        "import numpy as np\n",
        "from sklearn.decomposition import PCA\n",
        "import matplotlib.pyplot as plt\n",
        "from sklearn.preprocessing import StandardScaler"
      ]
    },
    {
      "cell_type": "code",
      "source": [
        "uni =pd.read_csv(\"Universities.csv\")\n",
        "uni.head()"
      ],
      "metadata": {
        "id": "aJCjH1870CK4"
      },
      "execution_count": null,
      "outputs": []
    },
    {
      "cell_type": "code",
      "source": [
        "uni.describe()"
      ],
      "metadata": {
        "id": "MP9zb9OJ1PK8"
      },
      "execution_count": null,
      "outputs": []
    },
    {
      "cell_type": "code",
      "source": [
        "uni = uni.iloc[:,1:]\n",
        "uni.head()"
      ],
      "metadata": {
        "id": "_xpteCdS1z4M"
      },
      "execution_count": null,
      "outputs": []
    },
    {
      "cell_type": "code",
      "source": [
        "std = StandardScaler()\n",
        "uni_normal = std.fit_transform(uni)\n",
        "uni_normal"
      ],
      "metadata": {
        "id": "BJD_h3Sq2AO-"
      },
      "execution_count": null,
      "outputs": []
    },
    {
      "cell_type": "code",
      "source": [
        "pca = PCA()\n",
        "pca_components=pca.fit_transform(uni_normal)\n"
      ],
      "metadata": {
        "id": "EdyE3qAQ2zS3"
      },
      "execution_count": 21,
      "outputs": []
    },
    {
      "cell_type": "code",
      "source": [
        "pca.explained_variance_"
      ],
      "metadata": {
        "id": "_RJq2FPh3Tis"
      },
      "execution_count": null,
      "outputs": []
    },
    {
      "cell_type": "code",
      "source": [
        "var = pca.explained_variance_ratio_\n",
        "var"
      ],
      "metadata": {
        "id": "MkwpD3JH4j5M"
      },
      "execution_count": null,
      "outputs": []
    },
    {
      "cell_type": "code",
      "source": [
        "# Cumilative Variance\n",
        "var1 = np.cumsum(np.round(var,decimals=4)*100)\n",
        "var1"
      ],
      "metadata": {
        "id": "Qr5VRY1l4oTz"
      },
      "execution_count": null,
      "outputs": []
    },
    {
      "cell_type": "code",
      "source": [
        "pca.components_"
      ],
      "metadata": {
        "id": "HQuXQfn_49uT"
      },
      "execution_count": null,
      "outputs": []
    },
    {
      "cell_type": "code",
      "source": [
        "uni.columns"
      ],
      "metadata": {
        "id": "i72A0n0K5P1W"
      },
      "execution_count": null,
      "outputs": []
    },
    {
      "cell_type": "code",
      "source": [
        "plt.plot(var1,color=\"red\")"
      ],
      "metadata": {
        "id": "ww8KLNbe6EVy"
      },
      "execution_count": null,
      "outputs": []
    },
    {
      "cell_type": "code",
      "source": [
        "import seaborn as sns\n",
        "sns.pairplot(pd.DataFrame(pca_components))"
      ],
      "metadata": {
        "id": "Kl8cDo2P6qY1"
      },
      "execution_count": null,
      "outputs": []
    },
    {
      "cell_type": "code",
      "source": [
        "sns.pairplot(uni)"
      ],
      "metadata": {
        "id": "9EQ_YbbR7Oxh"
      },
      "execution_count": null,
      "outputs": []
    }
  ]
}