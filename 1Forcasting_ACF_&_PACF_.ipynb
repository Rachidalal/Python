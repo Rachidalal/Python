{
  "nbformat": 4,
  "nbformat_minor": 0,
  "metadata": {
    "colab": {
      "provenance": []
    },
    "kernelspec": {
      "name": "python3",
      "display_name": "Python 3"
    },
    "language_info": {
      "name": "python"
    }
  },
  "cells": [
    {
      "cell_type": "code",
      "execution_count": 4,
      "metadata": {
        "id": "UsyNOfK27hq0"
      },
      "outputs": [],
      "source": [
        "                          # 31-8-2023 Thursday\n",
        "import pandas as pd\n",
        "import numpy as np\n",
        "from statsmodels.tsa.stattools import acf,pacf\n",
        "from statsmodels.graphics.tsaplots import plot_acf,plot_pacf\n",
        "import matplotlib.pyplot as plt"
      ]
    },
    {
      "cell_type": "code",
      "source": [
        "df=pd.read_csv(\"AirPassengers.csv\",index_col='Month',parse_dates=True)\n",
        "df"
      ],
      "metadata": {
        "id": "E1BGqYtK8GTd"
      },
      "execution_count": null,
      "outputs": []
    },
    {
      "cell_type": "code",
      "source": [
        "plt.figure(figsize=(8,3))\n",
        "plt.plot(df)"
      ],
      "metadata": {
        "id": "q0FyYQ3B8vMC"
      },
      "execution_count": null,
      "outputs": []
    },
    {
      "cell_type": "code",
      "source": [
        "df['Passengers_Diff']=df['Passengers'].diff(periods=1)\n",
        "df"
      ],
      "metadata": {
        "id": "YMtmR-8w84V3"
      },
      "execution_count": null,
      "outputs": []
    },
    {
      "cell_type": "code",
      "source": [
        "df=df.dropna()"
      ],
      "metadata": {
        "id": "Vfe7JB7P-A6J"
      },
      "execution_count": 12,
      "outputs": []
    },
    {
      "cell_type": "code",
      "source": [
        "df"
      ],
      "metadata": {
        "id": "Zs1lZzmS-h9G"
      },
      "execution_count": null,
      "outputs": []
    },
    {
      "cell_type": "code",
      "source": [
        "plt.title(\"Airline Passengers dataset with first-order difference\",size=20)\n",
        "plt.plot(df[\"Passengers\"],label='Passengers')\n",
        "plt.plot(df[\"Passengers_Diff\"],label='First-order difference',color='red')\n",
        "plt.legend()"
      ],
      "metadata": {
        "id": "6qyzfaB6-jvk"
      },
      "execution_count": null,
      "outputs": []
    },
    {
      "cell_type": "code",
      "source": [
        "acf_values = acf(df['Passengers_Diff'])\n",
        "np.round(acf_values,2)"
      ],
      "metadata": {
        "id": "qMxasOAw_Rxa"
      },
      "execution_count": null,
      "outputs": []
    },
    {
      "cell_type": "code",
      "source": [
        "plot_acf(df['Passengers_Diff'],lags=30);"
      ],
      "metadata": {
        "id": "zIXOYulE_xXd"
      },
      "execution_count": null,
      "outputs": []
    },
    {
      "cell_type": "code",
      "source": [
        "pacf_values = acf(df['Passengers_Diff'])\n",
        "np.round(acf_values,2)"
      ],
      "metadata": {
        "colab": {
          "base_uri": "https://localhost:8080/"
        },
        "id": "uhcMrQY_A8qH",
        "outputId": "9c6ed490-722e-4a1e-9d68-24b2945b60ac"
      },
      "execution_count": 21,
      "outputs": [
        {
          "output_type": "execute_result",
          "data": {
            "text/plain": [
              "array([ 1.  ,  0.3 , -0.1 , -0.24, -0.3 , -0.09, -0.08, -0.09, -0.29,\n",
              "       -0.19, -0.1 ,  0.28,  0.83,  0.28, -0.11, -0.22, -0.23, -0.06,\n",
              "       -0.07, -0.09, -0.3 , -0.16])"
            ]
          },
          "metadata": {},
          "execution_count": 21
        }
      ]
    },
    {
      "cell_type": "code",
      "source": [
        "plot_acf(df['Passengers_Diff']);"
      ],
      "metadata": {
        "colab": {
          "base_uri": "https://localhost:8080/",
          "height": 452
        },
        "id": "__7zn7uKBsFE",
        "outputId": "0220b9a7-19c9-45e7-9a90-b511ed6e28dd"
      },
      "execution_count": 22,
      "outputs": [
        {
          "output_type": "display_data",
          "data": {
            "text/plain": [
              "<Figure size 640x480 with 1 Axes>"
            ],
            "image/png": "[encoded data removed]"
          },
          "metadata": {}
        }
      ]
    },
    {
      "cell_type": "code",
      "source": [],
      "metadata": {
        "id": "SFvDyR4yBvoR"
      },
      "execution_count": null,
      "outputs": []
    }
  ]
}