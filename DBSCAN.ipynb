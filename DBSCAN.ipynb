{
  "nbformat": 4,
  "nbformat_minor": 0,
  "metadata": {
    "colab": {
      "provenance": []
    },
    "kernelspec": {
      "name": "python3",
      "display_name": "Python 3"
    },
    "language_info": {
      "name": "python"
    }
  },
  "cells": [
    {
      "cell_type": "code",
      "execution_count": 2,
      "metadata": {
        "id": "c3g6PR6-i7hI"
      },
      "outputs": [],
      "source": [
        "                                    # 1-8-2023 Tuesday\n",
        "import pandas as pd\n",
        "import numpy as np\n",
        "import matplotlib.pyplot as plt\n",
        "import seaborn as sns\n",
        "import warnings\n",
        "warnings.filterwarnings(\"ignore\")"
      ]
    },
    {
      "cell_type": "code",
      "source": [
        "df=pd.read_csv(\"Wholesale customers data.csv\")\n",
        "df.head()"
      ],
      "metadata": {
        "id": "hjreaZLRjj_Q"
      },
      "execution_count": null,
      "outputs": []
    },
    {
      "cell_type": "code",
      "source": [
        "x = df.iloc[:,2:]"
      ],
      "metadata": {
        "id": "ccEivhxHjvIt"
      },
      "execution_count": 4,
      "outputs": []
    },
    {
      "cell_type": "code",
      "source": [
        "x"
      ],
      "metadata": {
        "id": "3ldv-MG7kjbD"
      },
      "execution_count": null,
      "outputs": []
    },
    {
      "cell_type": "code",
      "source": [
        "df.info()"
      ],
      "metadata": {
        "id": "G8Bkzo7ZklOS"
      },
      "execution_count": null,
      "outputs": []
    },
    {
      "cell_type": "code",
      "source": [
        "x.describe()"
      ],
      "metadata": {
        "id": "GxIDyuCXknLA"
      },
      "execution_count": null,
      "outputs": []
    },
    {
      "cell_type": "code",
      "source": [
        "df.isna().sum()"
      ],
      "metadata": {
        "id": "t-52PfLYl9C4"
      },
      "execution_count": null,
      "outputs": []
    },
    {
      "cell_type": "code",
      "source": [
        "x.boxplot()"
      ],
      "metadata": {
        "id": "CCuMLzYPkxd2"
      },
      "execution_count": null,
      "outputs": []
    },
    {
      "cell_type": "code",
      "source": [
        "sns.boxplot(x['Delicassen'])"
      ],
      "metadata": {
        "id": "l_0LDubplmRT"
      },
      "execution_count": null,
      "outputs": []
    },
    {
      "cell_type": "code",
      "source": [
        "from sklearn.preprocessing import StandardScaler"
      ],
      "metadata": {
        "id": "Ck8flu3ultT8"
      },
      "execution_count": 14,
      "outputs": []
    },
    {
      "cell_type": "code",
      "source": [
        "sc = StandardScaler()\n",
        "x = sc.fit_transform(x)\n",
        "x"
      ],
      "metadata": {
        "id": "Xe86MaP8mH-1"
      },
      "execution_count": null,
      "outputs": []
    },
    {
      "cell_type": "code",
      "source": [
        "from  sklearn.cluster import DBSCAN"
      ],
      "metadata": {
        "id": "D1Cs2HaFmUWP"
      },
      "execution_count": 16,
      "outputs": []
    },
    {
      "cell_type": "code",
      "source": [
        "db1 = DBSCAN()\n",
        "db1.fit_predict(x)"
      ],
      "metadata": {
        "id": "aMun8GqEnX3a"
      },
      "execution_count": null,
      "outputs": []
    },
    {
      "cell_type": "code",
      "source": [
        "db2 = DBSCAN(eps=1,min_samples=3)\n",
        "db2.fit_predict(x)"
      ],
      "metadata": {
        "id": "86V7oCErneWB"
      },
      "execution_count": null,
      "outputs": []
    },
    {
      "cell_type": "code",
      "source": [
        "sns.pairplot(df.drop(columns=['Channel','Region']))"
      ],
      "metadata": {
        "id": "axJioFnvoNSe"
      },
      "execution_count": null,
      "outputs": []
    },
    {
      "cell_type": "code",
      "source": [
        "from sklearn.metrics import silhouette_score"
      ],
      "metadata": {
        "id": "U_i8XhUgoW0j"
      },
      "execution_count": 22,
      "outputs": []
    },
    {
      "cell_type": "code",
      "source": [
        "silhouette_score(x,db2.fit_predict(x))"
      ],
      "metadata": {
        "id": "HN2SFjomozOp"
      },
      "execution_count": null,
      "outputs": []
    },
    {
      "cell_type": "code",
      "source": [
        "db3=DBSCAN(eps=2,min_samples=3)\n",
        "y=db3.fit_predict(x)"
      ],
      "metadata": {
        "id": "vhk5cnr0qjAt"
      },
      "execution_count": 26,
      "outputs": []
    },
    {
      "cell_type": "code",
      "source": [
        "silhouette_score(x,db3.fit_predict(x))"
      ],
      "metadata": {
        "id": "kDSrj8g7rQKs"
      },
      "execution_count": null,
      "outputs": []
    },
    {
      "cell_type": "code",
      "source": [
        "silhouette_score(x,db1.fit_predict(x))"
      ],
      "metadata": {
        "id": "ySxeKZ2grMra"
      },
      "execution_count": null,
      "outputs": []
    },
    {
      "cell_type": "code",
      "source": [
        "df['Cluster'] = y"
      ],
      "metadata": {
        "id": "oUMqz1Q8rWUd"
      },
      "execution_count": 29,
      "outputs": []
    },
    {
      "cell_type": "code",
      "source": [
        "df"
      ],
      "metadata": {
        "id": "ldefmwxPr0Bm"
      },
      "execution_count": null,
      "outputs": []
    },
    {
      "cell_type": "code",
      "source": [
        "df[df['Cluster'] == -1]"
      ],
      "metadata": {
        "id": "-Ue7Qnppr0yp"
      },
      "execution_count": null,
      "outputs": []
    },
    {
      "cell_type": "code",
      "source": [
        "df[df['Cluster'] == 0]"
      ],
      "metadata": {
        "id": "kK7cMDJPsTUt"
      },
      "execution_count": null,
      "outputs": []
    },
    {
      "cell_type": "code",
      "source": [
        "df.groupby('Cluster').agg('mean')"
      ],
      "metadata": {
        "id": "5Z3ccwsysaWZ"
      },
      "execution_count": null,
      "outputs": []
    }
  ]
}